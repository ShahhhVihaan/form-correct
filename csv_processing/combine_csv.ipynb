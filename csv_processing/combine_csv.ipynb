{
 "cells": [
  {
   "cell_type": "code",
   "execution_count": 3,
   "metadata": {},
   "outputs": [],
   "source": [
    "import pandas as pd\n",
    "\n",
    "csv_file_path = '/home/vihaan/PushUpData/CombinedAnnotatedVideos/annotations.csv'\n",
    "df = pd.read_csv(csv_file_path)"
   ]
  },
  {
   "cell_type": "code",
   "execution_count": 4,
   "metadata": {},
   "outputs": [
    {
     "name": "stdout",
     "output_type": "stream",
     "text": [
      "             Video_ID  Improper_Depth  Flared_Elbows  Sagged_Back  \\\n",
      "0  set1_vid0_seg1.mp4               1              1            0   \n",
      "1  set1_vid0_seg2.mp4               1              1            0   \n",
      "2  set1_vid1_seg1.mp4               0              0            0   \n",
      "3  set1_vid1_seg2.mp4               0              0            0   \n",
      "4  set1_vid1_seg3.mp4               0              0            0   \n",
      "\n",
      "   Arched_Back  Extended_Hands  Wide_Hands  Sagged_Knees  Neutral_Neck  \\\n",
      "0            0               0           0             0             1   \n",
      "1            0               0           0             0             1   \n",
      "2            0               0           0             0             0   \n",
      "3            0               0           0             0             0   \n",
      "4            0               0           0             0             0   \n",
      "\n",
      "   Wide_Feet  Too_Fast  Smooth_Motion  \n",
      "0          1         0              1  \n",
      "1          1         0              1  \n",
      "2          0         0              1  \n",
      "3          0         0              1  \n",
      "4          0         0              1  \n"
     ]
    }
   ],
   "source": [
    "print(df.head())"
   ]
  },
  {
   "cell_type": "code",
   "execution_count": 5,
   "metadata": {},
   "outputs": [
    {
     "name": "stdout",
     "output_type": "stream",
     "text": [
      "<class 'pandas.core.frame.DataFrame'>\n",
      "RangeIndex: 332 entries, 0 to 331\n",
      "Data columns (total 12 columns):\n",
      " #   Column          Non-Null Count  Dtype \n",
      "---  ------          --------------  ----- \n",
      " 0   Video_ID        332 non-null    object\n",
      " 1   Improper_Depth  332 non-null    int64 \n",
      " 2   Flared_Elbows   332 non-null    int64 \n",
      " 3   Sagged_Back     332 non-null    int64 \n",
      " 4   Arched_Back     332 non-null    int64 \n",
      " 5   Extended_Hands  332 non-null    int64 \n",
      " 6   Wide_Hands      332 non-null    int64 \n",
      " 7   Sagged_Knees    332 non-null    int64 \n",
      " 8   Neutral_Neck    332 non-null    int64 \n",
      " 9   Wide_Feet       332 non-null    int64 \n",
      " 10  Too_Fast        332 non-null    int64 \n",
      " 11  Smooth_Motion   332 non-null    int64 \n",
      "dtypes: int64(11), object(1)\n",
      "memory usage: 31.2+ KB\n",
      "None\n"
     ]
    }
   ],
   "source": [
    "print(df.info())\n"
   ]
  },
  {
   "cell_type": "code",
   "execution_count": 6,
   "metadata": {},
   "outputs": [
    {
     "name": "stdout",
     "output_type": "stream",
     "text": [
      "Improper_Depth     97\n",
      "Flared_Elbows     179\n",
      "Sagged_Back       118\n",
      "Arched_Back        36\n",
      "Extended_Hands     13\n",
      "Wide_Hands        145\n",
      "Sagged_Knees       81\n",
      "Neutral_Neck      251\n",
      "Wide_Feet          34\n",
      "Too_Fast           98\n",
      "Smooth_Motion     263\n",
      "dtype: int64\n"
     ]
    }
   ],
   "source": [
    "feature_sums = df.iloc[:, 1:].sum()  # This skips the first two columns, adjust the index as needed\n",
    "print(feature_sums)"
   ]
  },
  {
   "cell_type": "code",
   "execution_count": 7,
   "metadata": {},
   "outputs": [],
   "source": [
    "df = df.drop(['Arched_Back', \"Extended_Hands\", \"Sagged_Knees\", \"Neutral_Neck\", \"Wide_Feet\", \"Too_Fast\", \"Smooth_Motion\"], axis=1)"
   ]
  },
  {
   "cell_type": "code",
   "execution_count": 8,
   "metadata": {},
   "outputs": [
    {
     "name": "stdout",
     "output_type": "stream",
     "text": [
      "Improper_Depth     97\n",
      "Flared_Elbows     179\n",
      "Sagged_Back       118\n",
      "Wide_Hands        145\n",
      "dtype: int64\n"
     ]
    }
   ],
   "source": [
    "feature_sums = df.iloc[:, 1:].sum()\n",
    "print(feature_sums)"
   ]
  },
  {
   "cell_type": "code",
   "execution_count": 9,
   "metadata": {},
   "outputs": [
    {
     "name": "stdout",
     "output_type": "stream",
     "text": [
      "Combination (0, 0, 0, 0): 88 occurrences\n",
      "Combination (0, 0, 0, 1): 23 occurrences\n",
      "Combination (0, 0, 1, 0): 29 occurrences\n",
      "Combination (0, 0, 1, 1): 0 occurrences\n",
      "Combination (0, 1, 0, 0): 21 occurrences\n",
      "Combination (0, 1, 0, 1): 40 occurrences\n",
      "Combination (0, 1, 1, 0): 21 occurrences\n",
      "Combination (0, 1, 1, 1): 13 occurrences\n",
      "Combination (1, 0, 0, 0): 4 occurrences\n",
      "Combination (1, 0, 0, 1): 0 occurrences\n",
      "Combination (1, 0, 1, 0): 1 occurrences\n",
      "Combination (1, 0, 1, 1): 8 occurrences\n",
      "Combination (1, 1, 0, 0): 4 occurrences\n",
      "Combination (1, 1, 0, 1): 34 occurrences\n",
      "Combination (1, 1, 1, 0): 19 occurrences\n",
      "Combination (1, 1, 1, 1): 27 occurrences\n"
     ]
    }
   ],
   "source": [
    "from itertools import product\n",
    "\n",
    "columns = df.columns.tolist()[1:]\n",
    "all_combinations = list(product([0, 1], repeat=len(columns)))\n",
    "\n",
    "for combo in all_combinations:\n",
    "    mask = (df[columns] == pd.Series(combo, index=columns)).all(axis=1)\n",
    "    count = df[mask].shape[0]\n",
    "    print(f\"Combination {combo}: {count} occurrences\")"
   ]
  },
  {
   "cell_type": "code",
   "execution_count": 10,
   "metadata": {},
   "outputs": [],
   "source": [
    "df.to_csv('reduced_annotations.csv', index=False)"
   ]
  }
 ],
 "metadata": {
  "kernelspec": {
   "display_name": "god",
   "language": "python",
   "name": "python3"
  },
  "language_info": {
   "codemirror_mode": {
    "name": "ipython",
    "version": 3
   },
   "file_extension": ".py",
   "mimetype": "text/x-python",
   "name": "python",
   "nbconvert_exporter": "python",
   "pygments_lexer": "ipython3",
   "version": "3.8.19"
  }
 },
 "nbformat": 4,
 "nbformat_minor": 2
}
