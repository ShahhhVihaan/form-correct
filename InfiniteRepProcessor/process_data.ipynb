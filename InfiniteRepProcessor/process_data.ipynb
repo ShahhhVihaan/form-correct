{
 "cells": [
  {
   "cell_type": "code",
   "execution_count": 1,
   "metadata": {},
   "outputs": [],
   "source": [
    "import os\n",
    "import cv2\n",
    "import json\n",
    "import glob\n",
    "import numpy as np\n",
    "import pandas as pd\n",
    "import matplotlib.pyplot as plt\n",
    "from pycocotools.coco import COCO"
   ]
  },
  {
   "cell_type": "code",
   "execution_count": 2,
   "metadata": {},
   "outputs": [],
   "source": [
    "def split_video_into_reps(video_path, json_path, save_path):\n",
    "    coco = COCO(json_path)\n",
    "    cap = cv2.VideoCapture(video_path)\n",
    "    FPS = int(cap.get(cv2.CAP_PROP_FPS))\n",
    "    FRAME_W = int(cap.get(3)) \n",
    "    FRAME_H = int(cap.get(4))\n",
    "\n",
    "    img_iter = iter(coco.imgs.values())\n",
    "    ann_iter = iter(coco.anns.values())\n",
    "\n",
    "    json_data = dict()\n",
    "    json_data['info'] = coco.dataset['info']\n",
    "    json_data['categories'] = coco.dataset['categories']\n",
    "    imgs = []\n",
    "    anns = []\n",
    "    rep_count = 0\n",
    "    video_writer = cv2.VideoWriter(f\"{save_path}_{rep_count}.mp4\", cv2.VideoWriter_fourcc(*'MP4V'), \n",
    "                                   FPS, (FRAME_W, FRAME_H))\n",
    "\n",
    "    while cap.isOpened():\n",
    "        ret, frame = cap.read()\n",
    "        if not ret:\n",
    "            break\n",
    "\n",
    "        img_data = next(img_iter)\n",
    "        if img_data['rep_count'] > rep_count + 1:\n",
    "            json_data['images'] = imgs\n",
    "            json_data['annotations'] = anns\n",
    "            with open(f\"{save_path}_{rep_count}.json\", 'w', encoding='utf-8') as f:\n",
    "                json.dump(json_data, f, ensure_ascii=False, indent=4)\n",
    "\n",
    "            rep_count += 1\n",
    "            video_writer = cv2.VideoWriter(f\"{save_path}_{rep_count}.mp4\", cv2.VideoWriter_fourcc(*'MP4V'), \n",
    "                                           FPS, (FRAME_W, FRAME_H))\n",
    "            imgs = []\n",
    "            anns = []\n",
    "\n",
    "        video_writer.write(frame) \n",
    "        imgs.append(img_data)\n",
    "        anns.append(next(ann_iter))\n",
    "\n",
    "    rep_count += 1\n",
    "    json_data['images'] = imgs\n",
    "    json_data['annotations'] = anns\n",
    "    with open(f\"{save_path}_{rep_count}.json\", 'w', encoding='utf-8') as f:\n",
    "        json.dump(json_data, f, ensure_ascii=False, indent=4)\n",
    "\n",
    "    video_writer = cv2.VideoWriter(f\"{save_path}_{rep_count}.mp4\", cv2.VideoWriter_fourcc(*'MP4V'), \n",
    "                                   FPS, (FRAME_W, FRAME_H))\n",
    "\n",
    "    cap.release()\n",
    "    video_writer.release()"
   ]
  },
  {
   "cell_type": "code",
   "execution_count": null,
   "metadata": {},
   "outputs": [],
   "source": [
    "og_data_folder = 'InfinityRepData/data'\n",
    "new_data_folder = 'InfinityRepData/rep_data'\n",
    "\n",
    "og_data_files = os.listdir(og_data_folder)\n",
    "for i in range(1, len(og_data_files), 3):\n",
    "    file_basename = og_data_files[i].split('.')[0]\n",
    "    video_path = os.path.join(og_data_folder, f\"{file_basename}.mp4\")\n",
    "    json_path = os.path.join(og_data_folder, f\"{file_basename}.json\")\n",
    "    save_path = os.path.join(new_data_folder, file_basename)\n",
    "\n",
    "    split_video_into_reps(video_path, json_path, save_path)"
   ]
  },
  {
   "cell_type": "code",
   "execution_count": null,
   "metadata": {},
   "outputs": [],
   "source": [
    "# For reference: https://github.com/cocodataset/cocoapi/blob/master/PythonAPI/pycocotools/coco.py\n",
    "# TODO: What to do with the .zip file of labels per video? Currently ignoring"
   ]
  }
 ],
 "metadata": {
  "kernelspec": {
   "display_name": "Python 3",
   "language": "python",
   "name": "python3"
  },
  "language_info": {
   "codemirror_mode": {
    "name": "ipython",
    "version": 3
   },
   "file_extension": ".py",
   "mimetype": "text/x-python",
   "name": "python",
   "nbconvert_exporter": "python",
   "pygments_lexer": "ipython3",
   "version": "3.10.7"
  }
 },
 "nbformat": 4,
 "nbformat_minor": 2
}
